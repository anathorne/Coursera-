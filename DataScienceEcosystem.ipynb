{
 "cells": [
  {
   "cell_type": "markdown",
   "id": "3e43f2b1-524c-4a43-810d-8e7f2e32ca0a",
   "metadata": {},
   "source": [
    "# Data Science Tools and Ecosystem\n"
   ]
  },
  {
   "cell_type": "markdown",
   "id": "9bd69319-4213-41b1-a1fa-4b03d4d54b45",
   "metadata": {},
   "source": [
    "In this notebook, Data Science Tools and Ecosystem are summarized."
   ]
  },
  {
   "cell_type": "markdown",
   "id": "adacfee3-0896-47e9-aa96-0f436fe8a25b",
   "metadata": {},
   "source": [
    "**Objectives:**\n",
    "\n",
    "* List popular languages for Data Science\n",
    "* List commonly used libraries by Data Scientists\n",
    "* List commonly used Data Science Tools"
   ]
  },
  {
   "cell_type": "markdown",
   "id": "2766f6b4-e1f5-4476-9da5-65113b7d8ec5",
   "metadata": {},
   "source": [
    "Some of the popular languages that Data Scientists use are: \n",
    "1. Julia\n",
    "2. Python\n",
    "3. R"
   ]
  },
  {
   "cell_type": "markdown",
   "id": "b7a4776d-c6fe-415d-a6c1-6dae3c6ae4e6",
   "metadata": {},
   "source": [
    "Some of the commonly used libraries used by Data Scientists include:\n",
    "1. Seaborn\n",
    "2. NumPy\n",
    "3. Pandas\n",
    "4. Matplotlib\n",
    "5. SciPy\n",
    "   "
   ]
  },
  {
   "cell_type": "markdown",
   "id": "80db1b9d-e749-47ff-9d13-4c6572bbf117",
   "metadata": {},
   "source": [
    "| Data Science Tools |\n",
    "|----------------- |\n",
    "| Git | \n",
    "| GitHub |\n",
    "| GitHub |"
   ]
  },
  {
   "cell_type": "markdown",
   "id": "4397c477-826b-4bb9-b66e-b94c014fe294",
   "metadata": {},
   "source": [
    "### Below are a few examples of evaluating arithmetic expressions in Python"
   ]
  },
  {
   "cell_type": "markdown",
   "id": "63dee2df-b809-4b7e-8e95-3e36a9589215",
   "metadata": {},
   "source": [
    "This a simple arithmetic expression to mutiply then add integers\n"
   ]
  },
  {
   "cell_type": "code",
   "execution_count": 1,
   "id": "43c11ee8-c462-478b-9874-c407b5f5404d",
   "metadata": {},
   "outputs": [
    {
     "data": {
      "text/plain": [
       "17"
      ]
     },
     "execution_count": 1,
     "metadata": {},
     "output_type": "execute_result"
    }
   ],
   "source": [
    "(3*4)+5"
   ]
  },
  {
   "cell_type": "markdown",
   "id": "cd5692d8-4636-4e2d-ac39-6dab0d9f4dbc",
   "metadata": {},
   "source": [
    "This will convert 200 minutes to hours by diving by 60."
   ]
  },
  {
   "cell_type": "code",
   "execution_count": 2,
   "id": "e5b24530-3570-4cfa-8ee3-ba310771a630",
   "metadata": {},
   "outputs": [
    {
     "name": "stdout",
     "output_type": "stream",
     "text": [
      "3.3333333333333335\n"
     ]
    }
   ],
   "source": [
    "h=200/60\n",
    "print (h)"
   ]
  },
  {
   "cell_type": "markdown",
   "id": "6e0b2960-b061-4bfd-b7a9-d2f47167c1dd",
   "metadata": {},
   "source": [
    "## "
   ]
  }
 ],
 "metadata": {
  "kernelspec": {
   "display_name": "Python 3 (ipykernel)",
   "language": "python",
   "name": "python3"
  },
  "language_info": {
   "codemirror_mode": {
    "name": "ipython",
    "version": 3
   },
   "file_extension": ".py",
   "mimetype": "text/x-python",
   "name": "python",
   "nbconvert_exporter": "python",
   "pygments_lexer": "ipython3",
   "version": "3.12.8"
  }
 },
 "nbformat": 4,
 "nbformat_minor": 5
}
